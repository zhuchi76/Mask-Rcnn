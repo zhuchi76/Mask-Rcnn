{
 "cells": [
  {
   "cell_type": "code",
   "execution_count": 14,
   "metadata": {},
   "outputs": [
    {
     "name": "stdout",
     "output_type": "stream",
     "text": [
      "Requirement already satisfied: pyyaml==5.1 in ./dip/lib/python3.9/site-packages (5.1)\n",
      "\n",
      "\u001b[1m[\u001b[0m\u001b[34;49mnotice\u001b[0m\u001b[1;39;49m]\u001b[0m\u001b[39;49m A new release of pip is available: \u001b[0m\u001b[31;49m23.0.1\u001b[0m\u001b[39;49m -> \u001b[0m\u001b[32;49m23.3.2\u001b[0m\n",
      "\u001b[1m[\u001b[0m\u001b[34;49mnotice\u001b[0m\u001b[1;39;49m]\u001b[0m\u001b[39;49m To update, run: \u001b[0m\u001b[32;49mpip install --upgrade pip\u001b[0m\n",
      "fatal: destination path 'detectron2' already exists and is not an empty directory.\n",
      "Requirement already satisfied: Pillow>=7.1 in ./dip/lib/python3.9/site-packages (10.2.0)\n",
      "Requirement already satisfied: matplotlib in ./dip/lib/python3.9/site-packages (3.8.2)\n",
      "Requirement already satisfied: pycocotools>=2.0.2 in ./dip/lib/python3.9/site-packages (2.0.7)\n",
      "Requirement already satisfied: termcolor>=1.1 in ./dip/lib/python3.9/site-packages (2.4.0)\n",
      "Requirement already satisfied: yacs>=0.1.8 in ./dip/lib/python3.9/site-packages (0.1.8)\n",
      "Requirement already satisfied: tabulate in ./dip/lib/python3.9/site-packages (0.9.0)\n",
      "Requirement already satisfied: cloudpickle in ./dip/lib/python3.9/site-packages (3.0.0)\n",
      "Requirement already satisfied: tqdm>4.29.0 in ./dip/lib/python3.9/site-packages (4.66.1)\n",
      "Requirement already satisfied: tensorboard in ./dip/lib/python3.9/site-packages (2.15.1)\n",
      "Requirement already satisfied: fvcore<0.1.6,>=0.1.5 in ./dip/lib/python3.9/site-packages (0.1.5.post20221221)\n",
      "Requirement already satisfied: iopath<0.1.10,>=0.1.7 in ./dip/lib/python3.9/site-packages (0.1.9)\n",
      "Requirement already satisfied: omegaconf<2.4,>=2.1 in ./dip/lib/python3.9/site-packages (2.3.0)\n",
      "Requirement already satisfied: hydra-core>=1.1 in ./dip/lib/python3.9/site-packages (1.3.2)\n",
      "Requirement already satisfied: black in ./dip/lib/python3.9/site-packages (23.12.1)\n",
      "Requirement already satisfied: packaging in ./dip/lib/python3.9/site-packages (23.2)\n",
      "Requirement already satisfied: numpy<2,>=1.21 in ./dip/lib/python3.9/site-packages (from matplotlib) (1.26.3)\n",
      "Requirement already satisfied: contourpy>=1.0.1 in ./dip/lib/python3.9/site-packages (from matplotlib) (1.2.0)\n",
      "Requirement already satisfied: fonttools>=4.22.0 in ./dip/lib/python3.9/site-packages (from matplotlib) (4.47.0)\n",
      "Requirement already satisfied: cycler>=0.10 in ./dip/lib/python3.9/site-packages (from matplotlib) (0.12.1)\n",
      "Requirement already satisfied: kiwisolver>=1.3.1 in ./dip/lib/python3.9/site-packages (from matplotlib) (1.4.5)\n",
      "Requirement already satisfied: pyparsing>=2.3.1 in ./dip/lib/python3.9/site-packages (from matplotlib) (3.1.1)\n",
      "Requirement already satisfied: python-dateutil>=2.7 in ./dip/lib/python3.9/site-packages (from matplotlib) (2.8.2)\n",
      "Requirement already satisfied: importlib-resources>=3.2.0 in ./dip/lib/python3.9/site-packages (from matplotlib) (6.1.1)\n",
      "Requirement already satisfied: PyYAML in ./dip/lib/python3.9/site-packages (from yacs>=0.1.8) (5.1)\n",
      "Requirement already satisfied: google-auth<3,>=1.6.3 in ./dip/lib/python3.9/site-packages (from tensorboard) (2.26.1)\n",
      "Requirement already satisfied: absl-py>=0.4 in ./dip/lib/python3.9/site-packages (from tensorboard) (2.0.0)\n",
      "Requirement already satisfied: requests<3,>=2.21.0 in ./dip/lib/python3.9/site-packages (from tensorboard) (2.31.0)\n",
      "Requirement already satisfied: setuptools>=41.0.0 in ./dip/lib/python3.9/site-packages (from tensorboard) (58.1.0)\n",
      "Requirement already satisfied: markdown>=2.6.8 in ./dip/lib/python3.9/site-packages (from tensorboard) (3.5.1)\n",
      "Requirement already satisfied: protobuf<4.24,>=3.19.6 in ./dip/lib/python3.9/site-packages (from tensorboard) (4.23.4)\n",
      "Requirement already satisfied: google-auth-oauthlib<2,>=0.5 in ./dip/lib/python3.9/site-packages (from tensorboard) (1.2.0)\n",
      "Requirement already satisfied: six>1.9 in ./dip/lib/python3.9/site-packages (from tensorboard) (1.16.0)\n",
      "Requirement already satisfied: werkzeug>=1.0.1 in ./dip/lib/python3.9/site-packages (from tensorboard) (3.0.1)\n",
      "Requirement already satisfied: tensorboard-data-server<0.8.0,>=0.7.0 in ./dip/lib/python3.9/site-packages (from tensorboard) (0.7.2)\n",
      "Requirement already satisfied: grpcio>=1.48.2 in ./dip/lib/python3.9/site-packages (from tensorboard) (1.60.0)\n",
      "Requirement already satisfied: portalocker in ./dip/lib/python3.9/site-packages (from iopath<0.1.10,>=0.1.7) (2.8.2)\n",
      "Requirement already satisfied: antlr4-python3-runtime==4.9.* in ./dip/lib/python3.9/site-packages (from omegaconf<2.4,>=2.1) (4.9.3)\n",
      "Requirement already satisfied: click>=8.0.0 in ./dip/lib/python3.9/site-packages (from black) (8.1.7)\n",
      "Requirement already satisfied: typing-extensions>=4.0.1 in ./dip/lib/python3.9/site-packages (from black) (4.9.0)\n",
      "Requirement already satisfied: platformdirs>=2 in ./dip/lib/python3.9/site-packages (from black) (4.1.0)\n",
      "Requirement already satisfied: tomli>=1.1.0 in ./dip/lib/python3.9/site-packages (from black) (2.0.1)\n",
      "Requirement already satisfied: mypy-extensions>=0.4.3 in ./dip/lib/python3.9/site-packages (from black) (1.0.0)\n",
      "Requirement already satisfied: pathspec>=0.9.0 in ./dip/lib/python3.9/site-packages (from black) (0.12.1)\n",
      "Requirement already satisfied: pyasn1-modules>=0.2.1 in ./dip/lib/python3.9/site-packages (from google-auth<3,>=1.6.3->tensorboard) (0.3.0)\n",
      "Requirement already satisfied: rsa<5,>=3.1.4 in ./dip/lib/python3.9/site-packages (from google-auth<3,>=1.6.3->tensorboard) (4.9)\n",
      "Requirement already satisfied: cachetools<6.0,>=2.0.0 in ./dip/lib/python3.9/site-packages (from google-auth<3,>=1.6.3->tensorboard) (5.3.2)\n",
      "Requirement already satisfied: requests-oauthlib>=0.7.0 in ./dip/lib/python3.9/site-packages (from google-auth-oauthlib<2,>=0.5->tensorboard) (1.3.1)\n",
      "Requirement already satisfied: zipp>=3.1.0 in ./dip/lib/python3.9/site-packages (from importlib-resources>=3.2.0->matplotlib) (3.17.0)\n",
      "Requirement already satisfied: importlib-metadata>=4.4 in ./dip/lib/python3.9/site-packages (from markdown>=2.6.8->tensorboard) (7.0.1)\n",
      "Requirement already satisfied: idna<4,>=2.5 in ./dip/lib/python3.9/site-packages (from requests<3,>=2.21.0->tensorboard) (3.6)\n",
      "Requirement already satisfied: charset-normalizer<4,>=2 in ./dip/lib/python3.9/site-packages (from requests<3,>=2.21.0->tensorboard) (3.3.2)\n",
      "Requirement already satisfied: certifi>=2017.4.17 in ./dip/lib/python3.9/site-packages (from requests<3,>=2.21.0->tensorboard) (2023.11.17)\n",
      "Requirement already satisfied: urllib3<3,>=1.21.1 in ./dip/lib/python3.9/site-packages (from requests<3,>=2.21.0->tensorboard) (2.1.0)\n",
      "Requirement already satisfied: MarkupSafe>=2.1.1 in ./dip/lib/python3.9/site-packages (from werkzeug>=1.0.1->tensorboard) (2.1.3)\n",
      "Requirement already satisfied: pyasn1<0.6.0,>=0.4.6 in ./dip/lib/python3.9/site-packages (from pyasn1-modules>=0.2.1->google-auth<3,>=1.6.3->tensorboard) (0.5.1)\n",
      "Requirement already satisfied: oauthlib>=3.0.0 in ./dip/lib/python3.9/site-packages (from requests-oauthlib>=0.7.0->google-auth-oauthlib<2,>=0.5->tensorboard) (3.2.2)\n",
      "\n",
      "\u001b[1m[\u001b[0m\u001b[34;49mnotice\u001b[0m\u001b[1;39;49m]\u001b[0m\u001b[39;49m A new release of pip is available: \u001b[0m\u001b[31;49m23.0.1\u001b[0m\u001b[39;49m -> \u001b[0m\u001b[32;49m23.3.2\u001b[0m\n",
      "\u001b[1m[\u001b[0m\u001b[34;49mnotice\u001b[0m\u001b[1;39;49m]\u001b[0m\u001b[39;49m To update, run: \u001b[0m\u001b[32;49mpip install --upgrade pip\u001b[0m\n"
     ]
    }
   ],
   "source": [
    "!python -m pip install pyyaml==5.1\n",
    "import sys, os, distutils.core\n",
    "# Note: This is a faster way to install detectron2 in Colab, but it does not include all functionalities (e.g. compiled operators).\n",
    "# See https://detectron2.readthedocs.io/tutorials/install.html for full installation instructions\n",
    "!git clone 'https://github.com/facebookresearch/detectron2'\n",
    "dist = distutils.core.run_setup(\"./detectron2/setup.py\")\n",
    "!python -m pip install {' '.join([f\"'{x}'\" for x in dist.install_requires])}\n",
    "sys.path.insert(0, os.path.abspath('./detectron2'))"
   ]
  },
  {
   "cell_type": "code",
   "execution_count": 15,
   "metadata": {},
   "outputs": [
    {
     "name": "stdout",
     "output_type": "stream",
     "text": [
      "nvcc: NVIDIA (R) Cuda compiler driver\n",
      "Copyright (c) 2005-2019 NVIDIA Corporation\n",
      "Built on Sun_Jul_28_19:07:16_PDT_2019\n",
      "Cuda compilation tools, release 10.1, V10.1.243\n"
     ]
    },
    {
     "name": "stdout",
     "output_type": "stream",
     "text": [
      "torch:  2.1 ; cuda:  cu121\n",
      "detectron2: 0.6\n"
     ]
    }
   ],
   "source": [
    "import torch, detectron2\n",
    "!nvcc --version\n",
    "TORCH_VERSION = \".\".join(torch.__version__.split(\".\")[:2])\n",
    "CUDA_VERSION = torch.__version__.split(\"+\")[-1]\n",
    "print(\"torch: \", TORCH_VERSION, \"; cuda: \", CUDA_VERSION)\n",
    "print(\"detectron2:\", detectron2.__version__)"
   ]
  }
 ],
 "metadata": {
  "kernelspec": {
   "display_name": "dip",
   "language": "python",
   "name": "python3"
  },
  "language_info": {
   "codemirror_mode": {
    "name": "ipython",
    "version": 3
   },
   "file_extension": ".py",
   "mimetype": "text/x-python",
   "name": "python",
   "nbconvert_exporter": "python",
   "pygments_lexer": "ipython3",
   "version": "3.9.18"
  }
 },
 "nbformat": 4,
 "nbformat_minor": 2
}
